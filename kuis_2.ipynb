{
 "cells": [
  {
   "cell_type": "markdown",
   "metadata": {},
   "source": [
    "### Pra pengolahan Data"
   ]
  },
  {
   "cell_type": "code",
   "execution_count": 1,
   "metadata": {},
   "outputs": [],
   "source": [
    "# import library yang dibutuhkan\n",
    "import numpy as np\n",
    "import pandas as pd\n",
    "import matplotlib.pyplot as plt"
   ]
  },
  {
   "cell_type": "code",
   "execution_count": 2,
   "metadata": {},
   "outputs": [
    {
     "data": {
      "text/html": [
       "<div>\n",
       "<style scoped>\n",
       "    .dataframe tbody tr th:only-of-type {\n",
       "        vertical-align: middle;\n",
       "    }\n",
       "\n",
       "    .dataframe tbody tr th {\n",
       "        vertical-align: top;\n",
       "    }\n",
       "\n",
       "    .dataframe thead th {\n",
       "        text-align: right;\n",
       "    }\n",
       "</style>\n",
       "<table border=\"1\" class=\"dataframe\">\n",
       "  <thead>\n",
       "    <tr style=\"text-align: right;\">\n",
       "      <th></th>\n",
       "      <th>id_ketua</th>\n",
       "      <th>id_anggota1</th>\n",
       "      <th>id_anggota2</th>\n",
       "      <th>id_anggota3</th>\n",
       "      <th>id_anggota4</th>\n",
       "      <th>id_anggota5</th>\n",
       "      <th>keterlibatan_vltr</th>\n",
       "      <th>jml_vltr_terlibat</th>\n",
       "      <th>tahun</th>\n",
       "      <th>skema</th>\n",
       "      <th>luaran_hki</th>\n",
       "      <th>jenis_luaran_hki</th>\n",
       "      <th>potensi_hki</th>\n",
       "      <th>luaran_lain</th>\n",
       "      <th>jenis_luaran_lain</th>\n",
       "      <th>status_luaran_lain</th>\n",
       "    </tr>\n",
       "  </thead>\n",
       "  <tbody>\n",
       "    <tr>\n",
       "      <th>0</th>\n",
       "      <td>7206.0</td>\n",
       "      <td>7214.0</td>\n",
       "      <td>6211.0</td>\n",
       "      <td>8602.0</td>\n",
       "      <td>7801.0</td>\n",
       "      <td>NaN</td>\n",
       "      <td>TIDAK</td>\n",
       "      <td>0</td>\n",
       "      <td>2019</td>\n",
       "      <td>REGULER</td>\n",
       "      <td>TIDAK ADA</td>\n",
       "      <td>TIDAK ADA</td>\n",
       "      <td>TIDAK</td>\n",
       "      <td>TIDAK ADA</td>\n",
       "      <td>TIDAK ADA</td>\n",
       "      <td>TIDAK ADA</td>\n",
       "    </tr>\n",
       "    <tr>\n",
       "      <th>1</th>\n",
       "      <td>7214.0</td>\n",
       "      <td>7109.0</td>\n",
       "      <td>8402.0</td>\n",
       "      <td>7903.0</td>\n",
       "      <td>9202.0</td>\n",
       "      <td>NaN</td>\n",
       "      <td>TIDAK</td>\n",
       "      <td>0</td>\n",
       "      <td>2019</td>\n",
       "      <td>REGULER</td>\n",
       "      <td>TIDAK ADA</td>\n",
       "      <td>TIDAK ADA</td>\n",
       "      <td>TIDAK</td>\n",
       "      <td>TIDAK ADA</td>\n",
       "      <td>TIDAK ADA</td>\n",
       "      <td>TIDAK ADA</td>\n",
       "    </tr>\n",
       "    <tr>\n",
       "      <th>2</th>\n",
       "      <td>5911.0</td>\n",
       "      <td>8201.0</td>\n",
       "      <td>8701.0</td>\n",
       "      <td>9101.0</td>\n",
       "      <td>9003.0</td>\n",
       "      <td>NaN</td>\n",
       "      <td>TIDAK</td>\n",
       "      <td>0</td>\n",
       "      <td>2019</td>\n",
       "      <td>REGULER</td>\n",
       "      <td>TIDAK ADA</td>\n",
       "      <td>TIDAK ADA</td>\n",
       "      <td>TIDAK</td>\n",
       "      <td>TIDAK ADA</td>\n",
       "      <td>TIDAK ADA</td>\n",
       "      <td>TIDAK ADA</td>\n",
       "    </tr>\n",
       "    <tr>\n",
       "      <th>3</th>\n",
       "      <td>8402.0</td>\n",
       "      <td>7702.0</td>\n",
       "      <td>8602.0</td>\n",
       "      <td>8903.0</td>\n",
       "      <td>8903.0</td>\n",
       "      <td>NaN</td>\n",
       "      <td>TIDAK</td>\n",
       "      <td>0</td>\n",
       "      <td>2019</td>\n",
       "      <td>REGULER</td>\n",
       "      <td>TIDAK ADA</td>\n",
       "      <td>TIDAK ADA</td>\n",
       "      <td>TIDAK</td>\n",
       "      <td>TIDAK ADA</td>\n",
       "      <td>TIDAK ADA</td>\n",
       "      <td>TIDAK ADA</td>\n",
       "    </tr>\n",
       "    <tr>\n",
       "      <th>4</th>\n",
       "      <td>8201.0</td>\n",
       "      <td>8305.0</td>\n",
       "      <td>5911.0</td>\n",
       "      <td>5903.0</td>\n",
       "      <td>8402.0</td>\n",
       "      <td>NaN</td>\n",
       "      <td>TIDAK</td>\n",
       "      <td>0</td>\n",
       "      <td>2019</td>\n",
       "      <td>REGULER</td>\n",
       "      <td>TIDAK ADA</td>\n",
       "      <td>TIDAK ADA</td>\n",
       "      <td>TIDAK</td>\n",
       "      <td>TIDAK ADA</td>\n",
       "      <td>TIDAK ADA</td>\n",
       "      <td>TIDAK ADA</td>\n",
       "    </tr>\n",
       "  </tbody>\n",
       "</table>\n",
       "</div>"
      ],
      "text/plain": [
       "   id_ketua  id_anggota1  id_anggota2  id_anggota3  id_anggota4  id_anggota5  \\\n",
       "0    7206.0       7214.0       6211.0       8602.0       7801.0          NaN   \n",
       "1    7214.0       7109.0       8402.0       7903.0       9202.0          NaN   \n",
       "2    5911.0       8201.0       8701.0       9101.0       9003.0          NaN   \n",
       "3    8402.0       7702.0       8602.0       8903.0       8903.0          NaN   \n",
       "4    8201.0       8305.0       5911.0       5903.0       8402.0          NaN   \n",
       "\n",
       "  keterlibatan_vltr  jml_vltr_terlibat  tahun    skema luaran_hki  \\\n",
       "0             TIDAK                  0   2019  REGULER  TIDAK ADA   \n",
       "1             TIDAK                  0   2019  REGULER  TIDAK ADA   \n",
       "2             TIDAK                  0   2019  REGULER  TIDAK ADA   \n",
       "3             TIDAK                  0   2019  REGULER  TIDAK ADA   \n",
       "4             TIDAK                  0   2019  REGULER  TIDAK ADA   \n",
       "\n",
       "  jenis_luaran_hki potensi_hki luaran_lain jenis_luaran_lain  \\\n",
       "0        TIDAK ADA       TIDAK   TIDAK ADA         TIDAK ADA   \n",
       "1        TIDAK ADA       TIDAK   TIDAK ADA         TIDAK ADA   \n",
       "2        TIDAK ADA       TIDAK   TIDAK ADA         TIDAK ADA   \n",
       "3        TIDAK ADA       TIDAK   TIDAK ADA         TIDAK ADA   \n",
       "4        TIDAK ADA       TIDAK   TIDAK ADA         TIDAK ADA   \n",
       "\n",
       "  status_luaran_lain  \n",
       "0          TIDAK ADA  \n",
       "1          TIDAK ADA  \n",
       "2          TIDAK ADA  \n",
       "3          TIDAK ADA  \n",
       "4          TIDAK ADA  "
      ]
     },
     "execution_count": 2,
     "metadata": {},
     "output_type": "execute_result"
    }
   ],
   "source": [
    "# membaca data di dalam dataset\n",
    "df = pd.read_csv('dataset/dataset_quiz.csv.xls')\n",
    "df.head()"
   ]
  },
  {
   "cell_type": "code",
   "execution_count": 3,
   "metadata": {},
   "outputs": [
    {
     "data": {
      "text/html": [
       "<div>\n",
       "<style scoped>\n",
       "    .dataframe tbody tr th:only-of-type {\n",
       "        vertical-align: middle;\n",
       "    }\n",
       "\n",
       "    .dataframe tbody tr th {\n",
       "        vertical-align: top;\n",
       "    }\n",
       "\n",
       "    .dataframe thead th {\n",
       "        text-align: right;\n",
       "    }\n",
       "</style>\n",
       "<table border=\"1\" class=\"dataframe\">\n",
       "  <thead>\n",
       "    <tr style=\"text-align: right;\">\n",
       "      <th></th>\n",
       "      <th>id_ketua</th>\n",
       "      <th>id_anggota1</th>\n",
       "      <th>id_anggota2</th>\n",
       "      <th>id_anggota3</th>\n",
       "      <th>id_anggota4</th>\n",
       "      <th>id_anggota5</th>\n",
       "      <th>keterlibatan_vltr</th>\n",
       "      <th>jml_vltr_terlibat</th>\n",
       "      <th>tahun</th>\n",
       "      <th>skema</th>\n",
       "      <th>luaran_hki</th>\n",
       "      <th>jenis_luaran_hki</th>\n",
       "      <th>potensi_hki</th>\n",
       "      <th>luaran_lain</th>\n",
       "      <th>jenis_luaran_lain</th>\n",
       "      <th>status_luaran_lain</th>\n",
       "    </tr>\n",
       "  </thead>\n",
       "  <tbody>\n",
       "    <tr>\n",
       "      <th>0</th>\n",
       "      <td>7206.0</td>\n",
       "      <td>7214.0</td>\n",
       "      <td>6211.0</td>\n",
       "      <td>8602.0</td>\n",
       "      <td>7801.0</td>\n",
       "      <td>0.0</td>\n",
       "      <td>TIDAK</td>\n",
       "      <td>0</td>\n",
       "      <td>2019</td>\n",
       "      <td>REGULER</td>\n",
       "      <td>TIDAK ADA</td>\n",
       "      <td>TIDAK ADA</td>\n",
       "      <td>TIDAK</td>\n",
       "      <td>TIDAK ADA</td>\n",
       "      <td>TIDAK ADA</td>\n",
       "      <td>TIDAK ADA</td>\n",
       "    </tr>\n",
       "    <tr>\n",
       "      <th>1</th>\n",
       "      <td>7214.0</td>\n",
       "      <td>7109.0</td>\n",
       "      <td>8402.0</td>\n",
       "      <td>7903.0</td>\n",
       "      <td>9202.0</td>\n",
       "      <td>0.0</td>\n",
       "      <td>TIDAK</td>\n",
       "      <td>0</td>\n",
       "      <td>2019</td>\n",
       "      <td>REGULER</td>\n",
       "      <td>TIDAK ADA</td>\n",
       "      <td>TIDAK ADA</td>\n",
       "      <td>TIDAK</td>\n",
       "      <td>TIDAK ADA</td>\n",
       "      <td>TIDAK ADA</td>\n",
       "      <td>TIDAK ADA</td>\n",
       "    </tr>\n",
       "    <tr>\n",
       "      <th>2</th>\n",
       "      <td>5911.0</td>\n",
       "      <td>8201.0</td>\n",
       "      <td>8701.0</td>\n",
       "      <td>9101.0</td>\n",
       "      <td>9003.0</td>\n",
       "      <td>0.0</td>\n",
       "      <td>TIDAK</td>\n",
       "      <td>0</td>\n",
       "      <td>2019</td>\n",
       "      <td>REGULER</td>\n",
       "      <td>TIDAK ADA</td>\n",
       "      <td>TIDAK ADA</td>\n",
       "      <td>TIDAK</td>\n",
       "      <td>TIDAK ADA</td>\n",
       "      <td>TIDAK ADA</td>\n",
       "      <td>TIDAK ADA</td>\n",
       "    </tr>\n",
       "    <tr>\n",
       "      <th>3</th>\n",
       "      <td>8402.0</td>\n",
       "      <td>7702.0</td>\n",
       "      <td>8602.0</td>\n",
       "      <td>8903.0</td>\n",
       "      <td>8903.0</td>\n",
       "      <td>0.0</td>\n",
       "      <td>TIDAK</td>\n",
       "      <td>0</td>\n",
       "      <td>2019</td>\n",
       "      <td>REGULER</td>\n",
       "      <td>TIDAK ADA</td>\n",
       "      <td>TIDAK ADA</td>\n",
       "      <td>TIDAK</td>\n",
       "      <td>TIDAK ADA</td>\n",
       "      <td>TIDAK ADA</td>\n",
       "      <td>TIDAK ADA</td>\n",
       "    </tr>\n",
       "    <tr>\n",
       "      <th>4</th>\n",
       "      <td>8201.0</td>\n",
       "      <td>8305.0</td>\n",
       "      <td>5911.0</td>\n",
       "      <td>5903.0</td>\n",
       "      <td>8402.0</td>\n",
       "      <td>0.0</td>\n",
       "      <td>TIDAK</td>\n",
       "      <td>0</td>\n",
       "      <td>2019</td>\n",
       "      <td>REGULER</td>\n",
       "      <td>TIDAK ADA</td>\n",
       "      <td>TIDAK ADA</td>\n",
       "      <td>TIDAK</td>\n",
       "      <td>TIDAK ADA</td>\n",
       "      <td>TIDAK ADA</td>\n",
       "      <td>TIDAK ADA</td>\n",
       "    </tr>\n",
       "  </tbody>\n",
       "</table>\n",
       "</div>"
      ],
      "text/plain": [
       "   id_ketua  id_anggota1  id_anggota2  id_anggota3  id_anggota4  id_anggota5  \\\n",
       "0    7206.0       7214.0       6211.0       8602.0       7801.0          0.0   \n",
       "1    7214.0       7109.0       8402.0       7903.0       9202.0          0.0   \n",
       "2    5911.0       8201.0       8701.0       9101.0       9003.0          0.0   \n",
       "3    8402.0       7702.0       8602.0       8903.0       8903.0          0.0   \n",
       "4    8201.0       8305.0       5911.0       5903.0       8402.0          0.0   \n",
       "\n",
       "  keterlibatan_vltr  jml_vltr_terlibat  tahun    skema luaran_hki  \\\n",
       "0             TIDAK                  0   2019  REGULER  TIDAK ADA   \n",
       "1             TIDAK                  0   2019  REGULER  TIDAK ADA   \n",
       "2             TIDAK                  0   2019  REGULER  TIDAK ADA   \n",
       "3             TIDAK                  0   2019  REGULER  TIDAK ADA   \n",
       "4             TIDAK                  0   2019  REGULER  TIDAK ADA   \n",
       "\n",
       "  jenis_luaran_hki potensi_hki luaran_lain jenis_luaran_lain  \\\n",
       "0        TIDAK ADA       TIDAK   TIDAK ADA         TIDAK ADA   \n",
       "1        TIDAK ADA       TIDAK   TIDAK ADA         TIDAK ADA   \n",
       "2        TIDAK ADA       TIDAK   TIDAK ADA         TIDAK ADA   \n",
       "3        TIDAK ADA       TIDAK   TIDAK ADA         TIDAK ADA   \n",
       "4        TIDAK ADA       TIDAK   TIDAK ADA         TIDAK ADA   \n",
       "\n",
       "  status_luaran_lain  \n",
       "0          TIDAK ADA  \n",
       "1          TIDAK ADA  \n",
       "2          TIDAK ADA  \n",
       "3          TIDAK ADA  \n",
       "4          TIDAK ADA  "
      ]
     },
     "execution_count": 3,
     "metadata": {},
     "output_type": "execute_result"
    }
   ],
   "source": [
    "# mengganti nilai NaN dengan 0\n",
    "\n",
    "df = df.fillna(0)\n",
    "df.to_csv('dataset/dataset_quiz_change.csv', index=False)\n",
    "df.head()"
   ]
  },
  {
   "cell_type": "markdown",
   "metadata": {},
   "source": [
    "### 1. Buat 5 jenis visualisasi yang dapat dihasilkan dari dataset yang diberikan! (5 poin)\n",
    "\n",
    "membuat visualisasi kenaikan jumlah voulenteer dari tahun ke tahun"
   ]
  },
  {
   "cell_type": "code",
   "execution_count": 4,
   "metadata": {},
   "outputs": [
    {
     "data": {
      "image/png": "[encoded data removed]",
      "text/plain": [
       "<Figure size 640x480 with 1 Axes>"
      ]
     },
     "metadata": {},
     "output_type": "display_data"
    }
   ],
   "source": [
    "# membuat visualisasi kenaikan jumlah voulenteer dari tahun ke tahun\n",
    "\n",
    "#import library seaborn untuk membuat grafik dan statistik\n",
    "import seaborn as sns\n",
    "\n",
    "# membaca dataset\n",
    "data = pd.read_csv('dataset/dataset_quiz_change.csv')\n",
    "\n",
    "#membuat line plot dari data y yaitu tahun dan y yaitu jumlah voulenteer yang terlibat\n",
    "sns.lineplot(x='tahun', y='jml_vltr_terlibat', data=data, color='#9C254D')\n",
    "plt.show()"
   ]
  },
  {
   "cell_type": "markdown",
   "metadata": {},
   "source": [
    "jumlah voulenteer setiap tahun"
   ]
  },
  {
   "cell_type": "code",
   "execution_count": 5,
   "metadata": {},
   "outputs": [
    {
     "data": {
      "image/png": "[encoded data removed]",
      "text/plain": [
       "<Figure size 640x480 with 1 Axes>"
      ]
     },
     "metadata": {},
     "output_type": "display_data"
    }
   ],
   "source": [
    "# membaca dataset\n",
    "data = pd.read_csv('dataset/dataset_quiz_change.csv')\n",
    "\n",
    "# membuat bar chart dengan kolom tahun dan jumlah voulenteer yang terlibat\n",
    "plt.bar(data['tahun'], data['jml_vltr_terlibat'], color='#9C254D')\n",
    " \n",
    "plt.title(\"Jumlah voulenteer per tahun\")\n",
    " \n",
    "# setting label untuk sumbe X dan Y\n",
    "plt.xlabel('tahun')\n",
    "plt.ylabel('jumlah voulenteer terlibat')\n",
    " \n",
    "plt.show()"
   ]
  },
  {
   "cell_type": "markdown",
   "metadata": {},
   "source": [
    "hubungan keterlibatan jmlah voulenteer setiap tahunnya dengan skema"
   ]
  },
  {
   "cell_type": "code",
   "execution_count": 6,
   "metadata": {},
   "outputs": [
    {
     "data": {
      "image/png": "[encoded data removed]",
      "text/plain": [
       "<Figure size 640x480 with 1 Axes>"
      ]
     },
     "metadata": {},
     "output_type": "display_data"
    }
   ],
   "source": [
    "# membaca dataset\n",
    "data = pd.read_csv('dataset/dataset_quiz_change.csv')\n",
    "\n",
    "# membuat scatter plot dari sumbu x untuk tahun dan y untuk jumlah voulenteer dengan legend dipengaruhi oleh skema\n",
    "sns.scatterplot(x='tahun', y='jml_vltr_terlibat', data=data,\n",
    "               hue='skema', palette=\"flare\")\n",
    "plt.show()"
   ]
  },
  {
   "cell_type": "markdown",
   "metadata": {},
   "source": [
    "jumlah keterlibatan voulenteer secara keseluruhan"
   ]
  },
  {
   "cell_type": "code",
   "execution_count": 7,
   "metadata": {},
   "outputs": [
    {
     "data": {
      "text/plain": [
       "<AxesSubplot:ylabel='keterlibatan_vltr'>"
      ]
     },
     "execution_count": 7,
     "metadata": {},
     "output_type": "execute_result"
    },
    {
     "data": {
      "image/png": "[encoded data removed]",
      "text/plain": [
       "<Figure size 500x500 with 1 Axes>"
      ]
     },
     "metadata": {},
     "output_type": "display_data"
    }
   ],
   "source": [
    "\n",
    "# membaca dataset\n",
    "data = pd.read_csv('dataset/dataset_quiz_change.csv')\n",
    "\n",
    "# menghitung jumlah value dari kolom keterlibatan voulenteer\n",
    "kv = data['keterlibatan_vltr'].value_counts()\n",
    "\n",
    "# membuat diagram pie dari jumlah keterlibatan voulenteer \n",
    "kv.plot.pie(y='keterlibatan_vltr', figsize=(5, 5), autopct = \"%.0f%%\", colors=['#9C254D', '#975C8D'])"
   ]
  },
  {
   "cell_type": "markdown",
   "metadata": {},
   "source": [
    "Bagaimana jumlah setiap jenis keluaran lain"
   ]
  },
  {
   "cell_type": "code",
   "execution_count": 8,
   "metadata": {},
   "outputs": [
    {
     "data": {
      "image/png": "[encoded data removed]",
      "text/plain": [
       "<Figure size 640x480 with 1 Axes>"
      ]
     },
     "metadata": {},
     "output_type": "display_data"
    }
   ],
   "source": [
    "\n",
    "# membaca dataset\n",
    "data = pd.read_csv('dataset/dataset_quiz_change.csv')\n",
    "\n",
    "# membuat histogram dari kolom jenis luaran lainnya\n",
    "plt.hist(data['jenis_luaran_lain'],  color='#9C254D')\n",
    "\n",
    "# membuat judul dari hitogram\n",
    "plt.title(\"Jenis Luaran Lain\")\n",
    "\n",
    "plt.show()"
   ]
  },
  {
   "cell_type": "code",
   "execution_count": 9,
   "metadata": {},
   "outputs": [
    {
     "data": {
      "text/html": [
       "<div>\n",
       "<style scoped>\n",
       "    .dataframe tbody tr th:only-of-type {\n",
       "        vertical-align: middle;\n",
       "    }\n",
       "\n",
       "    .dataframe tbody tr th {\n",
       "        vertical-align: top;\n",
       "    }\n",
       "\n",
       "    .dataframe thead th {\n",
       "        text-align: right;\n",
       "    }\n",
       "</style>\n",
       "<table border=\"1\" class=\"dataframe\">\n",
       "  <thead>\n",
       "    <tr style=\"text-align: right;\">\n",
       "      <th></th>\n",
       "      <th>id_ketua</th>\n",
       "      <th>id_anggota1</th>\n",
       "      <th>id_anggota2</th>\n",
       "      <th>id_anggota3</th>\n",
       "      <th>id_anggota4</th>\n",
       "      <th>id_anggota5</th>\n",
       "      <th>keterlibatan_vltr</th>\n",
       "      <th>jml_vltr_terlibat</th>\n",
       "      <th>tahun</th>\n",
       "      <th>skema</th>\n",
       "      <th>luaran_hki</th>\n",
       "      <th>jenis_luaran_hki</th>\n",
       "      <th>potensi_hki</th>\n",
       "      <th>luaran_lain</th>\n",
       "      <th>jenis_luaran_lain</th>\n",
       "      <th>status_luaran_lain</th>\n",
       "    </tr>\n",
       "  </thead>\n",
       "  <tbody>\n",
       "    <tr>\n",
       "      <th>0</th>\n",
       "      <td>7206.0</td>\n",
       "      <td>7214.0</td>\n",
       "      <td>6211.0</td>\n",
       "      <td>8602.0</td>\n",
       "      <td>7801.0</td>\n",
       "      <td>0.0</td>\n",
       "      <td>0</td>\n",
       "      <td>0</td>\n",
       "      <td>2019</td>\n",
       "      <td>1</td>\n",
       "      <td>1</td>\n",
       "      <td>1</td>\n",
       "      <td>2</td>\n",
       "      <td>0</td>\n",
       "      <td>3</td>\n",
       "      <td>1</td>\n",
       "    </tr>\n",
       "    <tr>\n",
       "      <th>1</th>\n",
       "      <td>7214.0</td>\n",
       "      <td>7109.0</td>\n",
       "      <td>8402.0</td>\n",
       "      <td>7903.0</td>\n",
       "      <td>9202.0</td>\n",
       "      <td>0.0</td>\n",
       "      <td>0</td>\n",
       "      <td>0</td>\n",
       "      <td>2019</td>\n",
       "      <td>1</td>\n",
       "      <td>1</td>\n",
       "      <td>1</td>\n",
       "      <td>2</td>\n",
       "      <td>0</td>\n",
       "      <td>3</td>\n",
       "      <td>1</td>\n",
       "    </tr>\n",
       "    <tr>\n",
       "      <th>2</th>\n",
       "      <td>5911.0</td>\n",
       "      <td>8201.0</td>\n",
       "      <td>8701.0</td>\n",
       "      <td>9101.0</td>\n",
       "      <td>9003.0</td>\n",
       "      <td>0.0</td>\n",
       "      <td>0</td>\n",
       "      <td>0</td>\n",
       "      <td>2019</td>\n",
       "      <td>1</td>\n",
       "      <td>1</td>\n",
       "      <td>1</td>\n",
       "      <td>2</td>\n",
       "      <td>0</td>\n",
       "      <td>3</td>\n",
       "      <td>1</td>\n",
       "    </tr>\n",
       "    <tr>\n",
       "      <th>3</th>\n",
       "      <td>8402.0</td>\n",
       "      <td>7702.0</td>\n",
       "      <td>8602.0</td>\n",
       "      <td>8903.0</td>\n",
       "      <td>8903.0</td>\n",
       "      <td>0.0</td>\n",
       "      <td>0</td>\n",
       "      <td>0</td>\n",
       "      <td>2019</td>\n",
       "      <td>1</td>\n",
       "      <td>1</td>\n",
       "      <td>1</td>\n",
       "      <td>2</td>\n",
       "      <td>0</td>\n",
       "      <td>3</td>\n",
       "      <td>1</td>\n",
       "    </tr>\n",
       "    <tr>\n",
       "      <th>4</th>\n",
       "      <td>8201.0</td>\n",
       "      <td>8305.0</td>\n",
       "      <td>5911.0</td>\n",
       "      <td>5903.0</td>\n",
       "      <td>8402.0</td>\n",
       "      <td>0.0</td>\n",
       "      <td>0</td>\n",
       "      <td>0</td>\n",
       "      <td>2019</td>\n",
       "      <td>1</td>\n",
       "      <td>1</td>\n",
       "      <td>1</td>\n",
       "      <td>2</td>\n",
       "      <td>0</td>\n",
       "      <td>3</td>\n",
       "      <td>1</td>\n",
       "    </tr>\n",
       "  </tbody>\n",
       "</table>\n",
       "</div>"
      ],
      "text/plain": [
       "   id_ketua  id_anggota1  id_anggota2  id_anggota3  id_anggota4  id_anggota5  \\\n",
       "0    7206.0       7214.0       6211.0       8602.0       7801.0          0.0   \n",
       "1    7214.0       7109.0       8402.0       7903.0       9202.0          0.0   \n",
       "2    5911.0       8201.0       8701.0       9101.0       9003.0          0.0   \n",
       "3    8402.0       7702.0       8602.0       8903.0       8903.0          0.0   \n",
       "4    8201.0       8305.0       5911.0       5903.0       8402.0          0.0   \n",
       "\n",
       "   keterlibatan_vltr  jml_vltr_terlibat  tahun  skema  luaran_hki  \\\n",
       "0                  0                  0   2019      1           1   \n",
       "1                  0                  0   2019      1           1   \n",
       "2                  0                  0   2019      1           1   \n",
       "3                  0                  0   2019      1           1   \n",
       "4                  0                  0   2019      1           1   \n",
       "\n",
       "   jenis_luaran_hki  potensi_hki  luaran_lain  jenis_luaran_lain  \\\n",
       "0                 1            2            0                  3   \n",
       "1                 1            2            0                  3   \n",
       "2                 1            2            0                  3   \n",
       "3                 1            2            0                  3   \n",
       "4                 1            2            0                  3   \n",
       "\n",
       "   status_luaran_lain  \n",
       "0                   1  \n",
       "1                   1  \n",
       "2                   1  \n",
       "3                   1  \n",
       "4                   1  "
      ]
     },
     "execution_count": 9,
     "metadata": {},
     "output_type": "execute_result"
    }
   ],
   "source": [
    "# melakukan encode kepada seluruh value dari dataset agar dapat diproses\n",
    "from sklearn.preprocessing import LabelEncoder\n",
    "\n",
    "encode = LabelEncoder()\n",
    "\n",
    "df['keterlibatan_vltr']= encode.fit_transform(df['keterlibatan_vltr'])\n",
    "df['skema']= encode.fit_transform(df['skema'])\n",
    "df['luaran_hki']= encode.fit_transform(df['luaran_hki'])\n",
    "df['jenis_luaran_hki']= encode.fit_transform(df['jenis_luaran_hki'])\n",
    "df['potensi_hki']= encode.fit_transform(df['potensi_hki'])\n",
    "df['luaran_lain']= encode.fit_transform(df['luaran_lain'])\n",
    "df['jenis_luaran_lain']= encode.fit_transform(df['jenis_luaran_lain'])\n",
    "df['status_luaran_lain']= encode.fit_transform(df['status_luaran_lain'])\n",
    "\n",
    "df.head()"
   ]
  },
  {
   "cell_type": "markdown",
   "metadata": {},
   "source": [
    "### 2. Lakukan pemilahan data training dan testing yang sesuai dan proporsional dari data tersebut! (5 poin)\n",
    "### 3. Lakukan validasi"
   ]
  },
  {
   "cell_type": "code",
   "execution_count": 10,
   "metadata": {},
   "outputs": [
    {
     "name": "stdout",
     "output_type": "stream",
     "text": [
      "Jumlah label data asli:\n",
      "0    45\n",
      "1    40\n",
      "Name: keterlibatan_vltr, dtype: int64\n",
      "Jumlah label data train:\n",
      "0    36\n",
      "1    32\n",
      "Name: keterlibatan_vltr, dtype: int64\n",
      "Jumlah label data val:\n",
      "1    4\n",
      "0    4\n",
      "Name: keterlibatan_vltr, dtype: int64\n",
      "Jumlah label data test:\n",
      "0    5\n",
      "1    4\n",
      "Name: keterlibatan_vltr, dtype: int64\n"
     ]
    }
   ],
   "source": [
    "# pemilahan data training dengan data testing\n",
    "from sklearn.model_selection import train_test_split\n",
    "\n",
    "# Split data training dan dan lainnya\n",
    "# data lainnya, akan kita split lagi menjadi validasi dan testing.\n",
    "# Rasio yang akan kita gunakan adalah 8:1:1\n",
    "df_train, df_unseen = train_test_split(df, test_size=0.2, random_state=0, stratify=df['keterlibatan_vltr'])\n",
    "\n",
    "# lakukan validasi\n",
    "# Split lagi antara validasi dan testing\n",
    "df_val, df_test = train_test_split(df_unseen, test_size=0.5, random_state=0, stratify=df_unseen['keterlibatan_vltr'])\n",
    "\n",
    "# Cek masing-masing ukuran data\n",
    "\n",
    "print(f'Jumlah label data asli:\\n{df.keterlibatan_vltr.value_counts()}')\n",
    "print(f'Jumlah label data train:\\n{df_train.keterlibatan_vltr.value_counts()}')\n",
    "print(f'Jumlah label data val:\\n{df_val.keterlibatan_vltr.value_counts()}')\n",
    "print(f'Jumlah label data test:\\n{df_test.keterlibatan_vltr.value_counts()}')\n"
   ]
  },
  {
   "cell_type": "markdown",
   "metadata": {},
   "source": [
    "### 4. Terapkan dua jenis metode klasifikasi dan lakukan perbandingan akurasi  dengan wajib melibatkan variabel keterlibatan volunteer sampai variabel luaran-luaran yang dihasilkan! (20 poin)"
   ]
  },
  {
   "cell_type": "code",
   "execution_count": 11,
   "metadata": {},
   "outputs": [],
   "source": [
    "# menentukan nilai dari x dimana bernilai seluruh kolom dataset kecuali id ketua dan anggota\n",
    "X = df.iloc[:,7:]\n",
    "# sumbu y bernilai kolom keterlibatan voulenteer\n",
    "y = df['keterlibatan_vltr']\n",
    "\n",
    "#splitting data testing dengan data training\n",
    "X_train, X_test, y_train, y_test = train_test_split(X, y, test_size=0.2, random_state=42)\n"
   ]
  },
  {
   "cell_type": "code",
   "execution_count": 12,
   "metadata": {},
   "outputs": [],
   "source": [
    "# Karena asumsi Gaussian NB adalah data terdistribusi secara normal,\n",
    "# maka kita perlu melakukan standarisasi\n",
    "\n",
    "from sklearn.preprocessing import StandardScaler\n",
    "\n",
    "sc = StandardScaler()\n",
    "\n",
    "# Standarisasi pada fitur di X_train dan X_test\n",
    "X_train_std = sc.fit_transform(X_train)\n",
    "X_test_std = sc.transform(X_test)"
   ]
  },
  {
   "cell_type": "code",
   "execution_count": 13,
   "metadata": {},
   "outputs": [
    {
     "name": "stdout",
     "output_type": "stream",
     "text": [
      "Decision Tree model accuracy: 1.00\n",
      "Test set accuracy: 1.0\n"
     ]
    }
   ],
   "source": [
    "# menggunakan decision tree\n",
    "from sklearn.tree import DecisionTreeClassifier\n",
    "from sklearn.metrics import accuracy_score\n",
    "# Model Decision Tree dengan tunnning hyperparameter\n",
    "\n",
    "# menggunakan gini, dengan kedalam maksimal 3 serta jumlah maksimal daun 30\n",
    "dc_std = DecisionTreeClassifier(criterion='gini', max_depth=3, max_leaf_nodes=30)\n",
    "\n",
    "# Fit ke model\n",
    "dc_std.fit(X_train_std, y_train)\n",
    "\n",
    "# Prediksi\n",
    "y_pred_dc_std = dc_std.predict(X_test_std)\n",
    "\n",
    "# Evaluasi akurasi testing data\n",
    "acc_dc_std = accuracy_score(y_test, y_pred_dc_std)\n",
    "\n",
    "# Print hasil evaluasi\n",
    "print(\"Decision Tree model accuracy: {:.2f}\".format(acc_dc_std))\n",
    "print(f\"Test set accuracy: {acc_dc_std}\")"
   ]
  },
  {
   "cell_type": "code",
   "execution_count": 14,
   "metadata": {},
   "outputs": [
    {
     "name": "stdout",
     "output_type": "stream",
     "text": [
      "Test set accuracy: 0.88\n",
      "Test set accuracy: 0.8823529411764706\n"
     ]
    }
   ],
   "source": [
    "# menggunakan svm linear\n",
    "# Model SVM linier tanpa tunnning hyperparameter\n",
    "from sklearn.svm import SVC # import SVM classifier\n",
    "\n",
    "svm_lin = SVC(kernel='linear', C=10)\n",
    "\n",
    "# Fit ke model\n",
    "svm_lin.fit(X_train_std, y_train)\n",
    "\n",
    "# Prediksi\n",
    "y_pred_svm_lin = svm_lin.predict(X_test_std)\n",
    "\n",
    "# Evaluasi akurasi testing data\n",
    "acc_svm_lin = accuracy_score(y_test, y_pred_svm_lin)\n",
    "\n",
    "# Print hasil evaluasi\n",
    "print(\"Test set accuracy: {:.2f}\".format(acc_svm_lin))\n",
    "print(f\"Test set accuracy: {acc_svm_lin}\")"
   ]
  },
  {
   "cell_type": "markdown",
   "metadata": {},
   "source": [
    "### 5. Terapkan sebuah metode prediksi (berdasarkan tahun, misal: jumlah kegiatan pada tahun tertentu sebagai x dan jumlah  luaran sebagai y) serta hitung akurasinya dengan wajib melibatkan variabel keterlibatan volunteer sampai variabel luaran-luaran yang dihasilkan! (20 poin)\n"
   ]
  },
  {
   "cell_type": "code",
   "execution_count": 15,
   "metadata": {},
   "outputs": [
    {
     "name": "stdout",
     "output_type": "stream",
     "text": [
      "Prediksi: ['Draft' 'Draft' 'Draft' 'Draft' 'Draft' 'Draft' 'Draft' 'Draft' 'Draft'\n",
      " 'Draft' 'Draft' 'Draft' 'Draft' 'Draft' 'Draft' 'Draft' 'Draft' 'Draft'\n",
      " 'Draft' 'TIDAK ADA' 'Draft' 'TIDAK ADA' 'TIDAK ADA' 'TIDAK ADA' 'Draft'\n",
      " 'TIDAK ADA' 'TIDAK ADA' 'TIDAK ADA' 'Draft' 'TIDAK ADA' 'TIDAK ADA'\n",
      " 'Draft' 'TIDAK ADA' 'TIDAK ADA' 'TIDAK ADA' 'Draft' 'TIDAK ADA' 'Draft'\n",
      " 'TIDAK ADA' 'Draft' 'TIDAK ADA' 'TIDAK ADA' 'Draft' 'Draft' 'TIDAK ADA'\n",
      " 'TIDAK ADA' 'TIDAK ADA' 'TIDAK ADA' 'TIDAK ADA' 'TIDAK ADA' 'Draft'\n",
      " 'Draft' 'Draft' 'TIDAK ADA' 'TIDAK ADA' 'Draft' 'Draft' 'Draft' 'Draft'\n",
      " 'Draft' 'TIDAK ADA' 'TIDAK ADA' 'TIDAK ADA' 'TIDAK ADA' 'TIDAK ADA'\n",
      " 'Draft' 'Draft' 'Draft' 'TIDAK ADA' 'Draft' 'Draft' 'Draft' 'TIDAK ADA'\n",
      " 'Draft' 'TIDAK ADA' 'Draft' 'TIDAK ADA' 'TIDAK ADA' 'TIDAK ADA'\n",
      " 'TIDAK ADA' 'TIDAK ADA' 'TIDAK ADA' 'TIDAK ADA' 'TIDAK ADA' 'Draft']\n",
      "Akurasi Prediksi decision tree:  1.0\n",
      "Akurasi Prediksi SVM:  0.8823529411764706\n"
     ]
    }
   ],
   "source": [
    "# melakukan prediksi dari data x yaitu tahun 2021 saja dan y yaitu seluruh kolom kecuali id ketua dan anggota\n",
    "pred = df[df['tahun'] == 2021]\n",
    "pred = df.iloc[:,7:]\n",
    "pred = pd.get_dummies(pred)\n",
    "\n",
    "# dilakukan pransformasi data x dan y\n",
    "pred = sc.transform(pred)\n",
    "\n",
    "#melakukan prediksi data dari hasil decision tree\n",
    "pred_dc = dc_std.predict(pred)\n",
    "\n",
    "\n",
    "# Menampilkan Hasil Prediksi dan decode prediksi\n",
    "print('Prediksi:', encode.inverse_transform(pred_dc))\n",
    "\n",
    "# Hitung Akurasi Prediksi\n",
    "from sklearn.metrics import accuracy_score\n",
    "print('Akurasi Prediksi decision tree: ',accuracy_score(y_test, y_pred_dc_std))\n",
    "print('Akurasi Prediksi SVM: ',accuracy_score(y_test, y_pred_svm_lin))\n",
    "\n"
   ]
  },
  {
   "cell_type": "markdown",
   "metadata": {},
   "source": [
    "### 6. Buat Confusion Matrix dan ROC berdasarkan klasifikasi yang diterapkan pada nomor 4! (15 poin)"
   ]
  },
  {
   "cell_type": "code",
   "execution_count": 16,
   "metadata": {},
   "outputs": [
    {
     "name": "stdout",
     "output_type": "stream",
     "text": [
      "Confusion Matrix Decision Tree :  [[8 0]\n",
      " [0 9]]\n",
      "Confusion Matrix SVM :  [[8 0]\n",
      " [1 8]]\n",
      "Nilai ROC Decision Tree :  1.0\n",
      "Nilai ROC SVM :  0.9444444444444444\n"
     ]
    }
   ],
   "source": [
    "# Membuat Confusion Matrix dan ROC AUC dari KNN dan Random Forest\n",
    "from sklearn.metrics import confusion_matrix, roc_curve, roc_auc_score\n",
    "import itertools\n",
    "\n",
    "# Confusion Matrix Decission Tree\n",
    "dc = DecisionTreeClassifier(criterion='gini', max_depth=3, max_leaf_nodes=30)\n",
    "dc.fit(X_train, y_train)\n",
    "y_preds_dc = dc.predict(X_test)\n",
    "conf_dc = confusion_matrix(y_test, y_preds_dc)\n",
    "\n",
    "print('Confusion Matrix Decision Tree : ', conf_dc)\n",
    "\n",
    "# Confusion Matrix SVM\n",
    "svm = SVC(kernel='linear', C=10)\n",
    "svm.fit(X_train, y_train)\n",
    "y_preds_svm = svm.predict(X_test)\n",
    "conf_svm = confusion_matrix(y_test, y_preds_svm)\n",
    "\n",
    "print('Confusion Matrix SVM : ', conf_svm)\n",
    "\n",
    "# ROC Decision Tree\n",
    "print('Nilai ROC Decision Tree : ',roc_auc_score(y_test, y_preds_dc))\n",
    "# ROC SVM\n",
    "print('Nilai ROC SVM : ',roc_auc_score(y_test, y_preds_svm))"
   ]
  },
  {
   "cell_type": "code",
   "execution_count": 17,
   "metadata": {},
   "outputs": [
    {
     "data": {
      "text/plain": [
       "Text(0.5, 23.52222222222222, 'Predicted label')"
      ]
     },
     "execution_count": 17,
     "metadata": {},
     "output_type": "execute_result"
    },
    {
     "data": {
      "image/png": "[encoded data removed]",
      "text/plain": [
       "<Figure size 640x480 with 2 Axes>"
      ]
     },
     "metadata": {},
     "output_type": "display_data"
    }
   ],
   "source": [
    "\n",
    "# Visualisasi \n",
    "#Confusion Matrix Decision Tree\n",
    "classes = [0, 1]\n",
    "\n",
    "plt.imshow(conf_dc, interpolation='nearest', cmap=plt.cm.PuRd)\n",
    "plt.title(\"Confusion Matrix Decision Tree\")\n",
    "plt.colorbar()\n",
    "tick_marks = np.arange(len(classes))\n",
    "plt.xticks(tick_marks, classes)\n",
    "plt.yticks(tick_marks, classes)\n",
    "\n",
    "fmt = 'd'\n",
    "thresh = conf_dc.max() / 2.\n",
    "for i, j in itertools.product(range(conf_dc.shape[0]), range(conf_dc.shape[1])):\n",
    "    plt.text(j, i, format(conf_dc[i, j], fmt),\n",
    "             horizontalalignment=\"center\",\n",
    "             color=\"white\" if conf_dc[i, j] > thresh else \"black\")\n",
    "\n",
    "plt.tight_layout()\n",
    "plt.ylabel('True label')\n",
    "plt.xlabel('Predicted label')"
   ]
  },
  {
   "cell_type": "code",
   "execution_count": 18,
   "metadata": {},
   "outputs": [
    {
     "data": {
      "text/plain": [
       "Text(0.5, 23.52222222222222, 'Predicted label')"
      ]
     },
     "execution_count": 18,
     "metadata": {},
     "output_type": "execute_result"
    },
    {
     "data": {
      "image/png": "[encoded data removed]",
      "text/plain": [
       "<Figure size 640x480 with 2 Axes>"
      ]
     },
     "metadata": {},
     "output_type": "display_data"
    }
   ],
   "source": [
    "\n",
    "# Confusion Matrix SVM\n",
    "classes = [0, 1]\n",
    "\n",
    "plt.imshow(conf_svm, interpolation='nearest', cmap=plt.cm.RdPu)\n",
    "plt.title(\"Confusion Matrix SVM\")\n",
    "plt.colorbar()\n",
    "tick_marks = np.arange(len(classes))\n",
    "plt.xticks(tick_marks, classes)\n",
    "plt.yticks(tick_marks, classes)\n",
    "\n",
    "fmt = 'd'\n",
    "thresh = conf_svm.max() / 2.\n",
    "for i, j in itertools.product(range(conf_svm.shape[0]), range(conf_svm.shape[1])):\n",
    "    plt.text(j, i, format(conf_svm[i, j], fmt),\n",
    "             horizontalalignment=\"center\",\n",
    "             color=\"white\" if conf_svm[i, j] > thresh else \"black\")\n",
    "\n",
    "plt.tight_layout()\n",
    "plt.ylabel('True label')\n",
    "plt.xlabel('Predicted label')"
   ]
  },
  {
   "cell_type": "code",
   "execution_count": 19,
   "metadata": {},
   "outputs": [
    {
     "data": {
      "image/png": "[encoded data removed]",
      "text/plain": [
       "<Figure size 640x480 with 1 Axes>"
      ]
     },
     "metadata": {},
     "output_type": "display_data"
    }
   ],
   "source": [
    "#membuat visualisais dari perhitungan ROC kedua metode klasifikasi\n",
    "\n",
    "fpr, tpr, thresholds = roc_curve(y_test, y_preds_dc)\n",
    "fpr2, tpr2, thresholds2 = roc_curve(y_test, y_preds_svm)\n",
    "plt.plot(fpr, tpr, label='Decision Tree', color=\"pink\")\n",
    "plt.plot(fpr2, tpr2, label='SVM', color=\"purple\")\n",
    "plt.plot([0, 1], [0, 1])\n",
    "plt.xlabel('False Positive Rate')\n",
    "plt.ylabel('True Positive Rate')\n",
    "plt.title('ROC Curve')\n",
    "plt.legend()\n",
    "plt.show()"
   ]
  },
  {
   "cell_type": "markdown",
   "metadata": {},
   "source": [
    "### 7. Lakukan hyperparameter tunning berdasarkan jawaban nomor 2, 3, dan 4 menggunakan metode Grid Search, Random Search, dan Exhausive Search! (20 poin)\n",
    "\n",
    "GridSeacrh"
   ]
  },
  {
   "cell_type": "code",
   "execution_count": 20,
   "metadata": {},
   "outputs": [
    {
     "name": "stdout",
     "output_type": "stream",
     "text": [
      "3.79 s ± 1.07 s per loop (mean ± std. dev. of 7 runs, 1 loop each)\n",
      "Hasil evaluasi gridSearch: 1.0\n"
     ]
    }
   ],
   "source": [
    "\n",
    "# menggunakan decision tree\n",
    "from sklearn.tree import DecisionTreeClassifier\n",
    "from sklearn.model_selection import GridSearchCV\n",
    "\n",
    "X = df.iloc[:,7:]\n",
    "y = df['keterlibatan_vltr']\n",
    "\n",
    "# inisiasi model\n",
    "dt = DecisionTreeClassifier()\n",
    "\n",
    "# Definisikan hyperparameter yang akan digunakan\n",
    "# sklearn menerima dalam bentuk dictionary\n",
    "# nama hyperparamater HARUS SESUAI dengan dokumentasi sklearn\n",
    "params = {\n",
    "    'criterion': ['gini', 'entropy', 'log_loss'],\n",
    "    'max_depth': list(range(5,11))\n",
    "}\n",
    "\n",
    "# inisiasi grid berdasarkan nilai hyperparameter\n",
    "grid = GridSearchCV(dt, param_grid=params)\n",
    "\n",
    "# Fit / latih berdasarkan grid\n",
    "# %timeit merupakan magic command didalam ipython notebook\n",
    "# yang dapat kita gunakan untuk menghitung waktu komputasi\n",
    "# cara ini cukup efektif untuk melakukan evaluasi suatu algoritma atau prosedur\n",
    "%timeit grid.fit(X, y)\n",
    "\n",
    "# Evaluasi dengan score\n",
    "score = grid.score(X, y)\n",
    "\n",
    "print(f'Hasil evaluasi gridSearch: {score}')"
   ]
  },
  {
   "cell_type": "markdown",
   "metadata": {},
   "source": [
    "RandomSearch"
   ]
  },
  {
   "cell_type": "code",
   "execution_count": 21,
   "metadata": {},
   "outputs": [
    {
     "name": "stdout",
     "output_type": "stream",
     "text": [
      "1.53 s ± 293 ms per loop (mean ± std. dev. of 7 runs, 1 loop each)\n",
      "Hasil evaluasi randomSeacrh: 1.0\n"
     ]
    }
   ],
   "source": [
    "\n",
    "from sklearn.model_selection import RandomizedSearchCV\n",
    "\n",
    "# inisiasi model\n",
    "dt = DecisionTreeClassifier()\n",
    "\n",
    "# Definisikan hyperparameter yang akan digunakan\n",
    "# sklearn menerima dalam bentuk dictionary\n",
    "# nama hyperparamater HARUS SESUAI dengan dokumentasi sklearn\n",
    "params = {\n",
    "    'criterion': ['gini', 'entropy', 'log_loss'],\n",
    "    'max_depth': list(range(5,11))\n",
    "}\n",
    "\n",
    "# inisiasi grid berdasarkan nilai hyperparameter\n",
    "random = RandomizedSearchCV(dt, param_distributions=params)\n",
    "\n",
    "# Fit / latih berdasarkan random\n",
    "# %timeit merupakan magic command didalam ipython notebook\n",
    "# yang dapat kita gunakan untuk menghitung waktu komputasi\n",
    "# cara ini cukup efektif untuk melakukan evaluasi suatu algoritma atau prosedur\n",
    "%timeit random.fit(X, y)\n",
    "\n",
    "# Evaluasi dengan score\n",
    "score = random.score(X,y)\n",
    "\n",
    "print(f'Hasil evaluasi randomSeacrh: {score}')"
   ]
  },
  {
   "cell_type": "markdown",
   "metadata": {},
   "source": [
    "#ExhausiveSearch"
   ]
  },
  {
   "cell_type": "code",
   "execution_count": 23,
   "metadata": {},
   "outputs": [
    {
     "name": "stdout",
     "output_type": "stream",
     "text": [
      "23.1 ms ± 4.87 ms per loop (mean ± std. dev. of 7 runs, 10 loops each)\n",
      "Hasil evaluasi ExausiveSearch: 1.0\n"
     ]
    }
   ],
   "source": [
    "# Exhausive Search dilakukan menggunakan manual search\n",
    "# inisiasi model\n",
    "\n",
    "# inisiasi grid berdasarkan nilai hyperparameter\n",
    "manual = DecisionTreeClassifier(criterion='entropy', max_depth=3)\n",
    "\n",
    "# Fit / latih berdasarkan random\n",
    "# %timeit merupakan magic command didalam ipython notebook\n",
    "# yang dapat kita gunakan untuk menghitung waktu komputasi\n",
    "# cara ini cukup efektif untuk melakukan evaluasi suatu algoritma atau prosedur\n",
    "%timeit manual.fit(X, y)\n",
    "\n",
    "# Evaluasi dengan score\n",
    "score = manual.score(X,y)\n",
    "\n",
    "print(f'Hasil evaluasi ExausiveSearch: {score}')"
   ]
  },
  {
   "cell_type": "markdown",
   "metadata": {},
   "source": [
    "### 8. Tambahkan visualisasi berdasarkan nomor 4 dan 5 (masing-masing nomor minimal satu visualisasi)! (10 poin)\n"
   ]
  },
  {
   "cell_type": "code",
   "execution_count": 24,
   "metadata": {},
   "outputs": [
    {
     "data": {
      "text/plain": [
       "([<matplotlib.patches.Wedge at 0x1f8349c4e50>,\n",
       "  <matplotlib.patches.Wedge at 0x1f834b66ec0>],\n",
       " [Text(-0.10781885436251672, 1.0947031993394167, 'decision tree'),\n",
       "  Text(0.1078188543625161, -1.0947031993394167, 'SVM')],\n",
       " [Text(-0.05881028419773639, 0.5971108360033182, '53%'),\n",
       "  Text(0.058810284197736054, -0.5971108360033182, '47%')])"
      ]
     },
     "execution_count": 24,
     "metadata": {},
     "output_type": "execute_result"
    },
    {
     "data": {
      "image/png": "[encoded data removed]",
      "text/plain": [
       "<Figure size 640x480 with 1 Axes>"
      ]
     },
     "metadata": {},
     "output_type": "display_data"
    }
   ],
   "source": [
    "# visualisasi nomor 4\n",
    "\n",
    "# visualisasi dilakukan dengan menampilkan data dari hasil metode klasifikasi\n",
    "kl = (acc_dc_std, acc_svm_lin)\n",
    "label = 'decision tree', 'SVM'\n",
    "\n",
    "plt.pie(kl, labels=label, autopct = \"%.0f%%\", colors=['#9C254D', '#975C8D'])"
   ]
  },
  {
   "cell_type": "code",
   "execution_count": 25,
   "metadata": {},
   "outputs": [
    {
     "data": {
      "image/png": "[encoded data removed]",
      "text/plain": [
       "<Figure size 640x480 with 1 Axes>"
      ]
     },
     "metadata": {},
     "output_type": "display_data"
    }
   ],
   "source": [
    "# visualisasi nomor 5\n",
    "\n",
    "#visualisasi dilakukan dengan menampilkan perbandingan data dari hasil prediksi dataset\n",
    "# histogram\n",
    "plt.hist(encode.inverse_transform(pred_dc),  color='#9C254D')\n",
    " \n",
    "plt.title(\"Prediksi\")\n",
    "\n",
    "plt.show()"
   ]
  }
 ],
 "metadata": {
  "kernelspec": {
   "display_name": "Python 3.10.6 64-bit",
   "language": "python",
   "name": "python3"
  },
  "language_info": {
   "codemirror_mode": {
    "name": "ipython",
    "version": 3
   },
   "file_extension": ".py",
   "mimetype": "text/x-python",
   "name": "python",
   "nbconvert_exporter": "python",
   "pygments_lexer": "ipython3",
   "version": "3.10.6"
  },
  "orig_nbformat": 4,
  "vscode": {
   "interpreter": {
    "hash": "107d7b120a5b68773a87d4067e673630b35702e55ebab3138143d08b1c4d7cbc"
   }
  }
 },
 "nbformat": 4,
 "nbformat_minor": 2
}
